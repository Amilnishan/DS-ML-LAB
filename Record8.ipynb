{
 "cells": [
  {
   "cell_type": "markdown",
   "id": "95028eb6",
   "metadata": {},
   "source": [
    "**program1**"
   ]
  },
  {
   "cell_type": "code",
   "execution_count": 10,
   "id": "262d3a82",
   "metadata": {},
   "outputs": [
    {
     "name": "stdout",
     "output_type": "stream",
     "text": [
      "     biking_percentage  smoking_percentage  heart_disease_percentage\n",
      "0            11.236204           39.103818                 55.441653\n",
      "1            28.521429           39.517376                 49.215203\n",
      "2            21.959818           29.435660                 43.101722\n",
      "3            17.959755           23.763373                 36.024788\n",
      "4             4.680559           15.833467                 41.467087\n",
      "..                 ...                 ...                       ...\n",
      "493           5.643635           29.314376                 52.457098\n",
      "494          13.910952           14.525080                 31.387649\n",
      "495          10.600567           25.658073                 44.276950\n",
      "496          17.509683           17.634086                 38.991721\n",
      "497           2.332039            8.205373                 35.823429\n",
      "\n",
      "[498 rows x 3 columns]\n",
      "Mean Squared Error: 8.76\n"
     ]
    }
   ],
   "source": [
    "#1. Write a program to predict the percentage of heart disease (the dependent variable) based\n",
    "#on two independent variables, percentage of people biking to town and percentage of people\n",
    "#smoking using Multiple Linear Regression Technique and evaluate its performance. Given a\n",
    "#data set of 498 items.\n",
    "#data set - heart.csv\n",
    "\n",
    "import numpy as np\n",
    "import pandas as pd\n",
    "from sklearn.model_selection import train_test_split\n",
    "from sklearn.linear_model import LinearRegression\n",
    "from sklearn.metrics import mean_squared_error\n",
    "\n",
    "# Load the dataset\n",
    "data = pd.read_csv('heart.csv')\n",
    "\n",
    "# Select independent variables (X) and dependent variable (y)\n",
    "X = data[['biking_percentage', 'smoking_percentage']]\n",
    "y = data['heart_disease_percentage']\n",
    "\n",
    "# Split the dataset into training and testing sets\n",
    "X_train, X_test, y_train, y_test = train_test_split(X, y, test_size=0.2, random_state=42)\n",
    "\n",
    "# Create a linear regression model\n",
    "model = LinearRegression()\n",
    "\n",
    "# Train the model\n",
    "model.fit(X_train, y_train)\n",
    "\n",
    "# Make predictions\n",
    "y_pred = model.predict(X_test)\n",
    "\n",
    "#print heart.csv\n",
    "print(data)\n",
    "\n",
    "# Evaluate the model\n",
    "mse = mean_squared_error(y_test, y_pred)\n",
    "print(f\"Mean Squared Error: {mse:.2f}\")"
   ]
  },
  {
   "cell_type": "markdown",
   "id": "3043d8c9",
   "metadata": {},
   "source": [
    "**program2**"
   ]
  },
  {
   "cell_type": "code",
   "execution_count": 11,
   "id": "de2c6e85",
   "metadata": {},
   "outputs": [
    {
     "name": "stdout",
     "output_type": "stream",
     "text": [
      "      age     sex   bmi  children smoker     region  expenses\n",
      "0      56    male  23.9         3     no  southeast  20170.37\n",
      "1      46  female  16.7         3     no  southeast  16595.53\n",
      "2      32    male  28.0         0     no  southeast  16128.53\n",
      "3      60    male  16.7         2     no  southwest  17932.26\n",
      "4      25    male  35.0         4     no  northwest  14474.99\n",
      "...   ...     ...   ...       ...    ...        ...       ...\n",
      "1333   60    male  34.5         4     no  northeast  27141.62\n",
      "1334   63  female  29.6         2     no  northeast  23436.23\n",
      "1335   21    male  38.8         4     no  southeast  18317.99\n",
      "1336   43    male  16.1         1     no  northeast  14804.58\n",
      "1337   46  female  21.6         2     no  southeast  15828.97\n",
      "\n",
      "[1338 rows x 7 columns]\n",
      "Mean Squared Error: 1011920.64\n",
      "Root Mean Squared Error: 1005.94\n"
     ]
    }
   ],
   "source": [
    "#2. Write a program to predict medical expenses (the dependent variable) based on the independent\n",
    "#variables, age, sex, bmi, children, smoker and region using Multiple Linear Regression\n",
    "#Technique and evaluate its performance. Given a data set of 1338 items.\n",
    "#data set - insurance.csv\n",
    "\n",
    "import numpy as np\n",
    "import pandas as pd\n",
    "from sklearn.model_selection import train_test_split\n",
    "from sklearn.linear_model import LinearRegression\n",
    "from sklearn.metrics import mean_squared_error\n",
    "\n",
    "# Load the dataset\n",
    "data = pd.read_csv('insurance.csv')\n",
    "\n",
    "# One-hot encode categorical variables\n",
    "data_encoded = pd.get_dummies(data, columns=['sex', 'smoker', 'region'], drop_first=True)\n",
    "\n",
    "# Split features and target\n",
    "X = data_encoded.drop('expenses', axis=1)\n",
    "y = data_encoded['expenses']\n",
    "\n",
    "#split the dataset into training and testing sets\n",
    "X_train, X_test, y_train, y_test = train_test_split(X, y, test_size=0.2, random_state=42)\n",
    "\n",
    "# Create a linear regression model\n",
    "model = LinearRegression()\n",
    "model.fit(X_train, y_train)\n",
    "\n",
    "# Make predictions on the test set\n",
    "y_pred = model.predict(X_test)\n",
    "\n",
    "#print insurance.csv\n",
    "print(data)\n",
    "\n",
    "# Evaluate the model's performance\n",
    "mse = mean_squared_error(y_test, y_pred)\n",
    "print(f'Mean Squared Error: {mse:.2f}')\n",
    "rmse = np.sqrt(mse)\n",
    "print(f\"Root Mean Squared Error: {rmse:.2f}\")"
   ]
  },
  {
   "cell_type": "markdown",
   "id": "c8a98731",
   "metadata": {},
   "source": [
    "**Program3**"
   ]
  },
  {
   "cell_type": "code",
   "execution_count": 1,
   "id": "46acdc26",
   "metadata": {},
   "outputs": [
    {
     "name": "stdout",
     "output_type": "stream",
     "text": [
      "Linear Regression MSE: 24.29\n"
     ]
    }
   ],
   "source": [
    "#Program to implement linear regression techniques using any\n",
    "#standard dataset available in the public domain and evaluate its performance.\n",
    "\n",
    "import pandas as pd\n",
    "import numpy as np\n",
    "from sklearn.model_selection import train_test_split\n",
    "from sklearn.linear_model import LinearRegression\n",
    "from sklearn.metrics import mean_squared_error\n",
    "from sklearn.datasets import load_boston\n",
    "\n",
    "data = load_boston()\n",
    "X = data.data\n",
    "y = data.target\n",
    "X_train, X_test, y_train, y_test = train_test_split(X, y, test_size=0.2, random_state=42)\n",
    "\n",
    "lr_model = LinearRegression()\n",
    "lr_model.fit(X_train, y_train)\n",
    "lr_pred = lr_model.predict(X_test)\n",
    "lr_mse = mean_squared_error(y_test, lr_pred)\n",
    "\n",
    "print(f\"Linear Regression MSE: {lr_mse:.2f}\")"
   ]
  }
 ],
 "metadata": {
  "kernelspec": {
   "display_name": "base",
   "language": "python",
   "name": "python3"
  },
  "language_info": {
   "codemirror_mode": {
    "name": "ipython",
    "version": 3
   },
   "file_extension": ".py",
   "mimetype": "text/x-python",
   "name": "python",
   "nbconvert_exporter": "python",
   "pygments_lexer": "ipython3",
   "version": "3.9.7"
  }
 },
 "nbformat": 4,
 "nbformat_minor": 5
}
