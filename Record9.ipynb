{
 "cells": [
  {
   "cell_type": "markdown",
   "id": "d4853a20",
   "metadata": {},
   "source": [
    "**Program1**"
   ]
  },
  {
   "cell_type": "code",
   "execution_count": 5,
   "id": "df5f3aeb",
   "metadata": {},
   "outputs": [
    {
     "name": "stdout",
     "output_type": "stream",
     "text": [
      "Accuracy: 1.0\n",
      "Classification Report:\n",
      "               precision    recall  f1-score   support\n",
      "\n",
      "           0       1.00      1.00      1.00         1\n",
      "           1       1.00      1.00      1.00         1\n",
      "\n",
      "    accuracy                           1.00         2\n",
      "   macro avg       1.00      1.00      1.00         2\n",
      "weighted avg       1.00      1.00      1.00         2\n",
      "\n"
     ]
    }
   ],
   "source": [
    "#Program to implement text classification using Support vector machine.\n",
    "\n",
    "# Import necessary libraries\n",
    "import pandas as pd\n",
    "import numpy as np\n",
    "from sklearn.svm import SVC\n",
    "from sklearn.feature_extraction.text import TfidfVectorizer\n",
    "from sklearn.model_selection import train_test_split\n",
    "from sklearn.metrics import classification_report, accuracy_score\n",
    "\n",
    "# Sample data (replace with your own dataset)\n",
    "corpus = [\"This is a positive review.\"\n",
    "            ,\"This is a negative review.\"\n",
    "            ,\"This is another positive review.\"\n",
    "            ,\"This is another negative review.\"\n",
    "            ,\"Another positive review.\"\n",
    "            ,\"Another negative review.\"]\n",
    "labels = [1, 0, 1, 0, 1, 0] # 1 = positive, 0 = negative\n",
    "\n",
    "# Step 1: Split the data before vectorizing\n",
    "X_train, X_test, y_train, y_test = train_test_split(corpus, labels, test_size=0.2, random_state=42)\n",
    "\n",
    "# Step 2: Vectorize the text data using TF-IDF\n",
    "vectorizer = TfidfVectorizer()\n",
    "X_train_tfidf = vectorizer.fit_transform(X_train)\n",
    "X_test_tfidf = vectorizer.transform(X_test)\n",
    "\n",
    "# Initialize the SVM classifier\n",
    "svm_classifier = SVC(kernel='linear')\n",
    "\n",
    "# Train the SVM classifier\n",
    "svm_classifier.fit(X_train_tfidf, y_train)\n",
    "\n",
    "# Step 4: Predict and evaluate\n",
    "y_pred = svm_classifier.predict(X_test_tfidf)\n",
    "\n",
    "print(\"Accuracy:\", accuracy_score(y_test, y_pred))\n",
    "print(\"Classification Report:\\n\", classification_report(y_test, y_pred))\n"
   ]
  },
  {
   "cell_type": "markdown",
   "id": "508273c0",
   "metadata": {},
   "source": [
    "**program2**"
   ]
  },
  {
   "cell_type": "code",
   "execution_count": 2,
   "id": "88863a7b",
   "metadata": {},
   "outputs": [
    {
     "name": "stdout",
     "output_type": "stream",
     "text": [
      "Accuracy: 0.9863\n",
      "Classification Report:\n",
      "\n",
      "                       precision    recall  f1-score   support\n",
      "\n",
      "        comp.graphics       0.97      0.99      0.98       307\n",
      "   rec.sport.baseball       0.99      0.99      0.99       284\n",
      "            sci.space       0.99      0.97      0.98       290\n",
      "talk.politics.mideast       1.00      0.99      0.99       288\n",
      "\n",
      "             accuracy                           0.99      1169\n",
      "            macro avg       0.99      0.99      0.99      1169\n",
      "         weighted avg       0.99      0.99      0.99      1169\n",
      "\n"
     ]
    }
   ],
   "source": [
    "from sklearn.datasets import fetch_20newsgroups\n",
    "from sklearn.model_selection import train_test_split\n",
    "from sklearn.feature_extraction.text import TfidfVectorizer\n",
    "from sklearn.svm import SVC\n",
    "from sklearn.metrics import classification_report, accuracy_score\n",
    "\n",
    "# Load 20 Newsgroups dataset (subset for simplicity)\n",
    "categories = ['sci.space', 'comp.graphics', 'rec.sport.baseball', 'talk.politics.mideast']\n",
    "\n",
    "newsgroups = fetch_20newsgroups(subset='all', categories=categories, shuffle=True, random_state=42)\n",
    "\n",
    "# Split the data\n",
    "X_train, X_test, y_train, y_test = train_test_split(newsgroups.data, newsgroups.target, test_size=0.3, random_state=42)\n",
    "\n",
    "# TF-IDF Vectorization\n",
    "vectorizer = TfidfVectorizer(stop_words='english', max_df=0.5)\n",
    "X_train_tfidf = vectorizer.fit_transform(X_train)\n",
    "X_test_tfidf = vectorizer.transform(X_test)\n",
    "\n",
    "# Train SVM Classifier\n",
    "svm_clf = SVC(kernel='linear')\n",
    "svm_clf.fit(X_train_tfidf, y_train)\n",
    "\n",
    "# Predict\n",
    "y_pred = svm_clf.predict(X_test_tfidf)\n",
    "\n",
    "# Evaluation\n",
    "accuracy = accuracy_score(y_test, y_pred)\n",
    "print(f\"Accuracy: {accuracy:.4f}\")\n",
    "print(\"Classification Report:\\n\")\n",
    "print(classification_report(y_test, y_pred, target_names=newsgroups.target_names))\n"
   ]
  }
 ],
 "metadata": {
  "kernelspec": {
   "display_name": "base",
   "language": "python",
   "name": "python3"
  },
  "language_info": {
   "codemirror_mode": {
    "name": "ipython",
    "version": 3
   },
   "file_extension": ".py",
   "mimetype": "text/x-python",
   "name": "python",
   "nbconvert_exporter": "python",
   "pygments_lexer": "ipython3",
   "version": "3.9.7"
  }
 },
 "nbformat": 4,
 "nbformat_minor": 5
}
