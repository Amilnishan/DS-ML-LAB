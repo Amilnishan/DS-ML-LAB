{
 "cells": [
  {
   "cell_type": "markdown",
   "id": "630c03a5",
   "metadata": {},
   "source": [
    "**program 1**"
   ]
  },
  {
   "cell_type": "code",
   "execution_count": null,
   "id": "8028a262",
   "metadata": {},
   "outputs": [
    {
     "name": "stdout",
     "output_type": "stream",
     "text": [
      "Matrix A:\n",
      " [[1 2]\n",
      " [3 4]]\n",
      "Matrix B:\n",
      " [[5 6]\n",
      " [7 8]]\n",
      "Addition of A and B:\n",
      " [[ 6  8]\n",
      " [10 12]]\n",
      "Subtraction of A and B:\n",
      " [[-4 -4]\n",
      " [-4 -4]]\n",
      "Element-wise multiplication of A and B:\n",
      " [[ 5 12]\n",
      " [21 32]]\n",
      "Matrix multiplication of A and B:\n",
      " [[19 22]\n",
      " [43 50]]\n",
      "Transpose of A:\n",
      " [[1 3]\n",
      " [2 4]]\n"
     ]
    }
   ],
   "source": [
    "#program to demonstrate basic matrix operations using NumPy\n",
    "\n",
    "import numpy as np\n",
    "\n",
    "A=np.array([[1,2],[3,4]])\n",
    "B=np.array([[5,6],[7,8]])\n",
    "\n",
    "print(\"Matrix A:\\n\",A)\n",
    "print(\"Matrix B:\\n\",B)\n",
    "\n",
    "#Addition\n",
    "C=A+B\n",
    "print(\"Addition of A and B:\\n\",C)\n",
    "\n",
    "#Subtraction\n",
    "D=A-B\n",
    "print(\"Subtraction of A and B:\\n\",D)\n",
    "\n",
    "#Multiplication\n",
    "E=A*B\n",
    "print(\"Element-wise multiplication of A and B:\\n\",E)\n",
    "\n",
    "#Matrix multiplication\n",
    "F=np.dot(A,B)\n",
    "print(\"Matrix multiplication of A and B:\\n\",F)\n",
    "\n",
    "#Transpose\n",
    "G=A.T\n",
    "print(\"Transpose of A:\\n\",G)\n",
    "\n",
    "\n",
    "\n",
    "\n"
   ]
  },
  {
   "cell_type": "markdown",
   "id": "17ff6366",
   "metadata": {},
   "source": [
    "**program2**"
   ]
  },
  {
   "cell_type": "code",
   "execution_count": 1,
   "id": "4cdabeaf",
   "metadata": {},
   "outputs": [
    {
     "name": "stdout",
     "output_type": "stream",
     "text": [
      "Left Singular Matrix (U):\n",
      " [[-0.21483724  0.88723069  0.40824829]\n",
      " [-0.52058739  0.24964395 -0.81649658]\n",
      " [-0.82633754 -0.38794278  0.40824829]]\n",
      "Right Singular Matrix (VT):\n",
      " [[-0.47967118 -0.57236779 -0.66506441]\n",
      " [-0.77669099 -0.07568647  0.62531805]\n",
      " [-0.40824829  0.81649658 -0.40824829]]\n",
      "Diagonal Elements of S:\n",
      " [1.68481034e+01 1.06836951e+00 3.33475287e-16]\n",
      "original matrix:\n",
      " [[1 2 3]\n",
      " [4 5 6]\n",
      " [7 8 9]]\n",
      "\n",
      "Reconstructed matrix with reduced dimensions:\n",
      " [[1. 2. 3.]\n",
      " [4. 5. 6.]\n",
      " [7. 8. 9.]]\n"
     ]
    }
   ],
   "source": [
    "#program to demonstrate left singular matrix, summation of diagonal elements and right singular matrix using NumPy with SVD\n",
    "\n",
    "import numpy as np\n",
    "\n",
    "# Define a matrix\n",
    "X =np.array([[1,2,3],[4,5,6],[7,8,9]])\n",
    "\n",
    "#perform SVD (Singular Value Decomposition)\n",
    "U, S, VT = np.linalg.svd(X)\n",
    "\n",
    "print(\"Left Singular Matrix (U):\\n\", U)\n",
    "print(\"Right Singular Matrix (VT):\\n\", VT)\n",
    "print(\"Diagonal Elements of S:\\n\", S)\n",
    "\n",
    "#choose the number of components to keep(eg.,2)\n",
    "n_components = 2\n",
    "\n",
    "# Reconstruct matrix with reduced dimensions\n",
    "X_reconstructed = np.dot(U[:, :n_components], np.dot(np.diag(S[:n_components]), VT[:n_components, :]))\n",
    "\n",
    "print(\"original matrix:\\n\", X)\n",
    "print(\"\\nReconstructed matrix with reduced dimensions:\\n\", X_reconstructed)\n",
    "\n"
   ]
  }
 ],
 "metadata": {
  "kernelspec": {
   "display_name": "base",
   "language": "python",
   "name": "python3"
  },
  "language_info": {
   "codemirror_mode": {
    "name": "ipython",
    "version": 3
   },
   "file_extension": ".py",
   "mimetype": "text/x-python",
   "name": "python",
   "nbconvert_exporter": "python",
   "pygments_lexer": "ipython3",
   "version": "3.9.7"
  }
 },
 "nbformat": 4,
 "nbformat_minor": 5
}
